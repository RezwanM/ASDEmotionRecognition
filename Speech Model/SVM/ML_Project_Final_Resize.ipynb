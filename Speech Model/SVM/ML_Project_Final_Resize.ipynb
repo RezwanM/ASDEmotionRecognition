{
 "cells": [
  {
   "cell_type": "code",
   "execution_count": 2,
   "metadata": {},
   "outputs": [],
   "source": [
    "#************************************************************************************\n",
    "# Rezwan Matin\n",
    "# Thesis B\n",
    "# Filename: ML_Project_Final_Resize.py\n",
    "# Date: 12/11/19\n",
    "#\n",
    "# Objective:\n",
    "# 13 MFCCs, 13 Delta-MFCCs, 13 Delta-delta MFCCs.\n",
    "#\n",
    "#*************************************************************************************\n",
    "\n",
    "import pandas as pd\n",
    "import numpy as np\n",
    "import matplotlib.pyplot as plt\n",
    "import librosa as rosa\n",
    "import glob\n",
    "import os\n",
    "from sklearn.utils import resample\n",
    "from sklearn.svm import SVC\n",
    "from sklearn.model_selection import train_test_split\n",
    "from matplotlib.colors import ListedColormap\n",
    "from sklearn.preprocessing import StandardScaler\n",
    "from pydub import AudioSegment\n",
    "from pydub.playback import play"
   ]
  },
  {
   "cell_type": "code",
   "execution_count": 3,
   "metadata": {},
   "outputs": [
    {
     "data": {
      "text/plain": [
       "<_io.BufferedRandom name='City_Centre-Hopeinawe-377331566-extract.wav'>"
      ]
     },
     "execution_count": 3,
     "metadata": {},
     "output_type": "execute_result"
    }
   ],
   "source": [
    "files_path = 'C:/Users/Maleeha/Downloads/'\n",
    "file_name = 'City_Centre-Hopeinawe-377331566'\n",
    "\n",
    "startMin = 0\n",
    "startSec = 0\n",
    "\n",
    "endMin = 0\n",
    "endSec = 3\n",
    "\n",
    "# Time to miliseconds\n",
    "startTime = startMin*60*1000+startSec*1000\n",
    "endTime = endMin*60*1000+endSec*1000\n",
    "\n",
    "# Opening file and extracting segment\n",
    "song = AudioSegment.from_wav( files_path+file_name+'.wav' )\n",
    "extract = song[startTime:endTime]\n",
    "\n",
    "# Saving\n",
    "extract.export( file_name+'-extract.wav', format=\"wav\")"
   ]
  },
  {
   "cell_type": "code",
   "execution_count": 2,
   "metadata": {},
   "outputs": [],
   "source": [
    "# Save directory path in 'path'\n",
    "path = r'C:\\Books\\Texas State Books\\Fall 2019\\Thesis A\\Corpus\\Simulated\\RAVDESS\\All'\n",
    "\n",
    "# Create a list of audio file names 'file_list'\n",
    "file_list = os.listdir(path)\n",
    "\n",
    "i=0\n",
    "\n",
    "for filename in file_list:\n",
    "    \n",
    "    files_path = path + '\\\\'\n",
    "    file_name = file_list[i]\n",
    "\n",
    "    startMin = 0\n",
    "    startSec = 0\n",
    "\n",
    "    endMin = 0\n",
    "    endSec = 3\n",
    "\n",
    "    # Time to miliseconds\n",
    "    startTime = startMin*60*1000+startSec*1000\n",
    "    endTime = endMin*60*1000+endSec*1000\n",
    "\n",
    "    # Opening file and extracting segment\n",
    "    song = AudioSegment.from_wav( files_path+file_name)\n",
    "    extract = song[startTime:endTime]\n",
    "\n",
    "    # Saving\n",
    "    extract.export( file_name, format=\"wav\")\n",
    "    \n",
    "    i+=1"
   ]
  },
  {
   "cell_type": "code",
   "execution_count": null,
   "metadata": {},
   "outputs": [],
   "source": []
  }
 ],
 "metadata": {
  "kernelspec": {
   "display_name": "Python 3",
   "language": "python",
   "name": "python3"
  },
  "language_info": {
   "codemirror_mode": {
    "name": "ipython",
    "version": 3
   },
   "file_extension": ".py",
   "mimetype": "text/x-python",
   "name": "python",
   "nbconvert_exporter": "python",
   "pygments_lexer": "ipython3",
   "version": "3.7.1"
  }
 },
 "nbformat": 4,
 "nbformat_minor": 2
}
