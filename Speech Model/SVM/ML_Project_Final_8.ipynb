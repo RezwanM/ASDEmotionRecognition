{
 "cells": [
  {
   "cell_type": "code",
   "execution_count": 1,
   "metadata": {},
   "outputs": [],
   "source": [
    "#************************************************************************************\n",
    "# Rezwan Matin\n",
    "# Thesis B\n",
    "# Filename: ML_Project_Final_8.py\n",
    "# Date: 12/11/19\n",
    "#\n",
    "# Objective:\n",
    "# 26 MFCCs (mean) and 26 MFCCs (standard deviation), ZCR.\n",
    "#\n",
    "#*************************************************************************************\n",
    "\n",
    "import pandas as pd\n",
    "import numpy as np\n",
    "import matplotlib.pyplot as plt\n",
    "import librosa as rosa\n",
    "import glob\n",
    "import os\n",
    "from sklearn.utils import resample\n",
    "from sklearn.svm import SVC\n",
    "from sklearn.model_selection import train_test_split\n",
    "from matplotlib.colors import ListedColormap\n",
    "from sklearn.preprocessing import StandardScaler\n",
    "from sklearn.pipeline import make_pipeline\n",
    "from sklearn.model_selection import learning_curve\n",
    "from sklearn.metrics import confusion_matrix\n",
    "import itertools"
   ]
  },
  {
   "cell_type": "code",
   "execution_count": 2,
   "metadata": {},
   "outputs": [
    {
     "data": {
      "text/plain": [
       "array([1.48219694e-322, 9.11257444e-316, 1.38338381e-322, ...,\n",
       "       9.32265673e+000, 9.21448291e-002, 8.00000000e+000])"
      ]
     },
     "execution_count": 2,
     "metadata": {},
     "output_type": "execute_result"
    }
   ],
   "source": [
    "# Save directory path in 'path'\n",
    "path = r'C:/Books/Texas State Books/Fall 2019/Thesis A/Corpus/Simulated/RAVDESS/All'\n",
    "\n",
    "# Declare a dummy Numpy array (row vector)\n",
    "result_array = np.empty([1,54])\n",
    "\n",
    "# Create a list of audio file names 'file_list'\n",
    "file_list = os.listdir(path)\n",
    "\n",
    "i=0\n",
    "\n",
    "for filename in file_list:\n",
    "    \n",
    "    # Read WAV file. 'rosa.core.load' returns sampling frequency in 'fs' and audio signal in 'sig'\n",
    "    sig, fs = rosa.core.load(path + '/' + file_list[i], sr=None)\n",
    "    \n",
    "    # 'rosa.feature.mfcc' extracts n_mfccs from signal and stores it into 'mfcc_feat'\n",
    "    mfcc_feat = rosa.feature.mfcc(y=sig, sr=fs, n_mfcc=26)\n",
    "    \n",
    "    # Calculate the average mfcc (utterance-level features) using 'rosa.feat.mfcc()' and 'np.mean' method. '.T' transposes the rows and columns. 'axis=0' indicates average is calculated column-wise\n",
    "    avg_mfcc_feat = np.mean(rosa.feature.mfcc(y=sig, sr=fs, n_mfcc=26).T,axis=0)\n",
    "    \n",
    "    # Calculate the standard deviation of mfcc (utterance-level features) using 'rosa.feat.mfcc()' and 'np.std' method. '.T' transposes the rows and columns. 'axis=0' indicates average is calculated column-wise\n",
    "    std_mfcc_feat = np.std(rosa.feature.mfcc(y=sig, sr=fs, n_mfcc=26).T,axis=0)\n",
    "    \n",
    "    # Calculate the average zero crossing rate (utterance-level feature) using 'rosa.feat.zero_crossing_rate()' and 'np.mean' method. '.T' transposes the rows and columns. 'axis=0' indicates average is calculated column-wise\n",
    "    zcross_feat = rosa.feature.zero_crossing_rate(sig)\n",
    "    avg_zcross_feat = np.mean(rosa.feature.zero_crossing_rate(y=sig).T,axis=0)\n",
    "    \n",
    "    # Append the three 1D arrays into a single 1D array called 'feat'.\n",
    "    feat0 = np.append(avg_mfcc_feat, std_mfcc_feat, axis=0)\n",
    "    \n",
    "    feat1 = np.append(feat0, avg_zcross_feat, axis=0)\n",
    "    \n",
    "    # Save emotion label from file name. 'path' contains directory's address, 'file_list' contains file name, and '\\\\' joins the two to form file's address\n",
    "    label = os.path.splitext(os.path.basename(path + '/' + file_list[i]))[0].split('-')[2]\n",
    "    \n",
    "    # Create a new Numpy array 'sample' to store features along with label\n",
    "    sample = np.insert(feat1, obj=53, values=label)\n",
    "    \n",
    "    result_array = np.append(result_array, sample)\n",
    "    \n",
    "    i+=1\n",
    "\n",
    "# Print out the 1D Numpy array\n",
    "result_array"
   ]
  },
  {
   "cell_type": "code",
   "execution_count": 3,
   "metadata": {},
   "outputs": [
    {
     "data": {
      "text/plain": [
       "(77814,)"
      ]
     },
     "execution_count": 3,
     "metadata": {},
     "output_type": "execute_result"
    }
   ],
   "source": [
    "result_array.shape"
   ]
  },
  {
   "cell_type": "code",
   "execution_count": 4,
   "metadata": {},
   "outputs": [
    {
     "data": {
      "text/plain": [
       "(1440, 54)"
      ]
     },
     "execution_count": 4,
     "metadata": {},
     "output_type": "execute_result"
    }
   ],
   "source": [
    "# Convert 1D Numpy array to 2D array. Argument must be a Tuple. i+1 because we have i samples (audio files) plus a dummy row.\n",
    "result_array = np.reshape(result_array, (i+1,-1))\n",
    "\n",
    "# Delete first dummy row from 2D array\n",
    "result_array = np.delete(result_array, 0, 0)\n",
    "\n",
    "# Print final 2D Numpy array \n",
    "result_array.shape"
   ]
  },
  {
   "cell_type": "code",
   "execution_count": 5,
   "metadata": {},
   "outputs": [
    {
     "data": {
      "text/html": [
       "<div>\n",
       "<style scoped>\n",
       "    .dataframe tbody tr th:only-of-type {\n",
       "        vertical-align: middle;\n",
       "    }\n",
       "\n",
       "    .dataframe tbody tr th {\n",
       "        vertical-align: top;\n",
       "    }\n",
       "\n",
       "    .dataframe thead th {\n",
       "        text-align: right;\n",
       "    }\n",
       "</style>\n",
       "<table border=\"1\" class=\"dataframe\">\n",
       "  <thead>\n",
       "    <tr style=\"text-align: right;\">\n",
       "      <th></th>\n",
       "      <th>0</th>\n",
       "      <th>1</th>\n",
       "      <th>2</th>\n",
       "      <th>3</th>\n",
       "      <th>4</th>\n",
       "      <th>5</th>\n",
       "      <th>6</th>\n",
       "      <th>7</th>\n",
       "      <th>8</th>\n",
       "      <th>9</th>\n",
       "      <th>...</th>\n",
       "      <th>44</th>\n",
       "      <th>45</th>\n",
       "      <th>46</th>\n",
       "      <th>47</th>\n",
       "      <th>48</th>\n",
       "      <th>49</th>\n",
       "      <th>50</th>\n",
       "      <th>51</th>\n",
       "      <th>52</th>\n",
       "      <th>Emotion</th>\n",
       "    </tr>\n",
       "  </thead>\n",
       "  <tbody>\n",
       "    <tr>\n",
       "      <th>0</th>\n",
       "      <td>-726.217274</td>\n",
       "      <td>68.541416</td>\n",
       "      <td>3.293398</td>\n",
       "      <td>12.205299</td>\n",
       "      <td>5.510278</td>\n",
       "      <td>13.667407</td>\n",
       "      <td>-2.983828</td>\n",
       "      <td>3.098029</td>\n",
       "      <td>-3.310813</td>\n",
       "      <td>-1.564385</td>\n",
       "      <td>...</td>\n",
       "      <td>5.425878</td>\n",
       "      <td>5.689251</td>\n",
       "      <td>7.162549</td>\n",
       "      <td>4.863709</td>\n",
       "      <td>5.585770</td>\n",
       "      <td>3.488844</td>\n",
       "      <td>5.367161</td>\n",
       "      <td>6.340625</td>\n",
       "      <td>0.050476</td>\n",
       "      <td>Neutral</td>\n",
       "    </tr>\n",
       "    <tr>\n",
       "      <th>1</th>\n",
       "      <td>-675.851962</td>\n",
       "      <td>68.959275</td>\n",
       "      <td>-4.962724</td>\n",
       "      <td>5.423068</td>\n",
       "      <td>0.609827</td>\n",
       "      <td>3.160781</td>\n",
       "      <td>-9.528728</td>\n",
       "      <td>2.647623</td>\n",
       "      <td>-9.230346</td>\n",
       "      <td>-3.492293</td>\n",
       "      <td>...</td>\n",
       "      <td>7.914243</td>\n",
       "      <td>5.654738</td>\n",
       "      <td>7.926573</td>\n",
       "      <td>7.294551</td>\n",
       "      <td>8.209560</td>\n",
       "      <td>7.293256</td>\n",
       "      <td>7.341540</td>\n",
       "      <td>6.102733</td>\n",
       "      <td>0.055098</td>\n",
       "      <td>Neutral</td>\n",
       "    </tr>\n",
       "    <tr>\n",
       "      <th>2</th>\n",
       "      <td>-650.819464</td>\n",
       "      <td>75.059091</td>\n",
       "      <td>-1.558455</td>\n",
       "      <td>10.676362</td>\n",
       "      <td>3.448231</td>\n",
       "      <td>9.053379</td>\n",
       "      <td>-3.507790</td>\n",
       "      <td>-5.246797</td>\n",
       "      <td>-8.943635</td>\n",
       "      <td>-2.100304</td>\n",
       "      <td>...</td>\n",
       "      <td>5.704100</td>\n",
       "      <td>6.260803</td>\n",
       "      <td>5.771089</td>\n",
       "      <td>7.325422</td>\n",
       "      <td>4.801887</td>\n",
       "      <td>6.249477</td>\n",
       "      <td>5.842002</td>\n",
       "      <td>5.776897</td>\n",
       "      <td>0.057811</td>\n",
       "      <td>Neutral</td>\n",
       "    </tr>\n",
       "    <tr>\n",
       "      <th>3</th>\n",
       "      <td>-718.598668</td>\n",
       "      <td>60.431713</td>\n",
       "      <td>-7.502653</td>\n",
       "      <td>8.470610</td>\n",
       "      <td>0.099280</td>\n",
       "      <td>2.274320</td>\n",
       "      <td>-9.095821</td>\n",
       "      <td>1.328662</td>\n",
       "      <td>-10.593964</td>\n",
       "      <td>-6.960267</td>\n",
       "      <td>...</td>\n",
       "      <td>6.607022</td>\n",
       "      <td>5.706694</td>\n",
       "      <td>4.840397</td>\n",
       "      <td>6.876870</td>\n",
       "      <td>10.203698</td>\n",
       "      <td>11.689911</td>\n",
       "      <td>8.299857</td>\n",
       "      <td>7.492363</td>\n",
       "      <td>0.049154</td>\n",
       "      <td>Neutral</td>\n",
       "    </tr>\n",
       "    <tr>\n",
       "      <th>4</th>\n",
       "      <td>-745.625665</td>\n",
       "      <td>79.437893</td>\n",
       "      <td>11.096364</td>\n",
       "      <td>14.473478</td>\n",
       "      <td>7.888486</td>\n",
       "      <td>15.526609</td>\n",
       "      <td>-2.419525</td>\n",
       "      <td>4.976626</td>\n",
       "      <td>-0.916208</td>\n",
       "      <td>-1.138914</td>\n",
       "      <td>...</td>\n",
       "      <td>4.392219</td>\n",
       "      <td>5.691560</td>\n",
       "      <td>7.304565</td>\n",
       "      <td>4.541160</td>\n",
       "      <td>5.775279</td>\n",
       "      <td>4.684903</td>\n",
       "      <td>4.733820</td>\n",
       "      <td>3.938220</td>\n",
       "      <td>0.061711</td>\n",
       "      <td>Neutral</td>\n",
       "    </tr>\n",
       "    <tr>\n",
       "      <th>5</th>\n",
       "      <td>-767.462590</td>\n",
       "      <td>73.540088</td>\n",
       "      <td>-14.753669</td>\n",
       "      <td>3.762173</td>\n",
       "      <td>2.184717</td>\n",
       "      <td>7.149111</td>\n",
       "      <td>-11.638861</td>\n",
       "      <td>-3.927076</td>\n",
       "      <td>-6.337936</td>\n",
       "      <td>-7.772809</td>\n",
       "      <td>...</td>\n",
       "      <td>8.688997</td>\n",
       "      <td>6.170362</td>\n",
       "      <td>8.317585</td>\n",
       "      <td>6.077283</td>\n",
       "      <td>7.317003</td>\n",
       "      <td>8.120423</td>\n",
       "      <td>5.786133</td>\n",
       "      <td>4.823799</td>\n",
       "      <td>0.063484</td>\n",
       "      <td>Neutral</td>\n",
       "    </tr>\n",
       "    <tr>\n",
       "      <th>6</th>\n",
       "      <td>-685.116600</td>\n",
       "      <td>91.437208</td>\n",
       "      <td>6.689504</td>\n",
       "      <td>19.391893</td>\n",
       "      <td>8.057633</td>\n",
       "      <td>17.248403</td>\n",
       "      <td>-7.020537</td>\n",
       "      <td>2.327569</td>\n",
       "      <td>-8.877209</td>\n",
       "      <td>-1.717042</td>\n",
       "      <td>...</td>\n",
       "      <td>6.270341</td>\n",
       "      <td>8.089153</td>\n",
       "      <td>5.502664</td>\n",
       "      <td>5.059152</td>\n",
       "      <td>5.574554</td>\n",
       "      <td>4.185490</td>\n",
       "      <td>5.535855</td>\n",
       "      <td>6.260219</td>\n",
       "      <td>0.073121</td>\n",
       "      <td>Neutral</td>\n",
       "    </tr>\n",
       "    <tr>\n",
       "      <th>7</th>\n",
       "      <td>-724.681549</td>\n",
       "      <td>78.935860</td>\n",
       "      <td>8.528006</td>\n",
       "      <td>21.338789</td>\n",
       "      <td>9.212904</td>\n",
       "      <td>15.382850</td>\n",
       "      <td>-6.691698</td>\n",
       "      <td>14.009060</td>\n",
       "      <td>-6.308382</td>\n",
       "      <td>-2.718124</td>\n",
       "      <td>...</td>\n",
       "      <td>6.895123</td>\n",
       "      <td>7.899635</td>\n",
       "      <td>6.076923</td>\n",
       "      <td>7.249549</td>\n",
       "      <td>7.542714</td>\n",
       "      <td>5.686461</td>\n",
       "      <td>6.341204</td>\n",
       "      <td>6.306932</td>\n",
       "      <td>0.058015</td>\n",
       "      <td>Neutral</td>\n",
       "    </tr>\n",
       "    <tr>\n",
       "      <th>8</th>\n",
       "      <td>-772.303192</td>\n",
       "      <td>100.141233</td>\n",
       "      <td>22.751473</td>\n",
       "      <td>28.350563</td>\n",
       "      <td>20.882337</td>\n",
       "      <td>24.289950</td>\n",
       "      <td>5.614293</td>\n",
       "      <td>8.056147</td>\n",
       "      <td>4.342381</td>\n",
       "      <td>4.477574</td>\n",
       "      <td>...</td>\n",
       "      <td>6.952332</td>\n",
       "      <td>6.956904</td>\n",
       "      <td>4.917133</td>\n",
       "      <td>6.264295</td>\n",
       "      <td>6.726540</td>\n",
       "      <td>6.639472</td>\n",
       "      <td>4.482355</td>\n",
       "      <td>5.056610</td>\n",
       "      <td>0.033976</td>\n",
       "      <td>Neutral</td>\n",
       "    </tr>\n",
       "    <tr>\n",
       "      <th>9</th>\n",
       "      <td>-596.937839</td>\n",
       "      <td>64.640544</td>\n",
       "      <td>6.658105</td>\n",
       "      <td>8.087178</td>\n",
       "      <td>-0.222232</td>\n",
       "      <td>11.440669</td>\n",
       "      <td>-8.109157</td>\n",
       "      <td>0.893834</td>\n",
       "      <td>-8.189038</td>\n",
       "      <td>-3.269589</td>\n",
       "      <td>...</td>\n",
       "      <td>8.566395</td>\n",
       "      <td>7.195438</td>\n",
       "      <td>8.436254</td>\n",
       "      <td>9.116186</td>\n",
       "      <td>6.072399</td>\n",
       "      <td>7.030783</td>\n",
       "      <td>10.201778</td>\n",
       "      <td>5.616832</td>\n",
       "      <td>0.097845</td>\n",
       "      <td>Neutral</td>\n",
       "    </tr>\n",
       "    <tr>\n",
       "      <th>10</th>\n",
       "      <td>-758.873944</td>\n",
       "      <td>71.857767</td>\n",
       "      <td>19.127047</td>\n",
       "      <td>27.317023</td>\n",
       "      <td>8.173654</td>\n",
       "      <td>17.783045</td>\n",
       "      <td>1.273393</td>\n",
       "      <td>9.496479</td>\n",
       "      <td>3.150366</td>\n",
       "      <td>2.682944</td>\n",
       "      <td>...</td>\n",
       "      <td>4.954148</td>\n",
       "      <td>6.268760</td>\n",
       "      <td>7.080512</td>\n",
       "      <td>7.530523</td>\n",
       "      <td>6.186610</td>\n",
       "      <td>4.983872</td>\n",
       "      <td>7.008102</td>\n",
       "      <td>6.501643</td>\n",
       "      <td>0.052809</td>\n",
       "      <td>Neutral</td>\n",
       "    </tr>\n",
       "    <tr>\n",
       "      <th>11</th>\n",
       "      <td>-708.831160</td>\n",
       "      <td>75.432617</td>\n",
       "      <td>2.321167</td>\n",
       "      <td>11.533048</td>\n",
       "      <td>3.199667</td>\n",
       "      <td>8.529853</td>\n",
       "      <td>-8.020412</td>\n",
       "      <td>3.238735</td>\n",
       "      <td>-4.889365</td>\n",
       "      <td>-7.317614</td>\n",
       "      <td>...</td>\n",
       "      <td>7.976270</td>\n",
       "      <td>10.380150</td>\n",
       "      <td>6.813642</td>\n",
       "      <td>6.556205</td>\n",
       "      <td>5.288268</td>\n",
       "      <td>6.545447</td>\n",
       "      <td>6.796746</td>\n",
       "      <td>5.156871</td>\n",
       "      <td>0.065126</td>\n",
       "      <td>Neutral</td>\n",
       "    </tr>\n",
       "  </tbody>\n",
       "</table>\n",
       "<p>12 rows × 54 columns</p>\n",
       "</div>"
      ],
      "text/plain": [
       "             0           1          2          3          4          5  \\\n",
       "0  -726.217274   68.541416   3.293398  12.205299   5.510278  13.667407   \n",
       "1  -675.851962   68.959275  -4.962724   5.423068   0.609827   3.160781   \n",
       "2  -650.819464   75.059091  -1.558455  10.676362   3.448231   9.053379   \n",
       "3  -718.598668   60.431713  -7.502653   8.470610   0.099280   2.274320   \n",
       "4  -745.625665   79.437893  11.096364  14.473478   7.888486  15.526609   \n",
       "5  -767.462590   73.540088 -14.753669   3.762173   2.184717   7.149111   \n",
       "6  -685.116600   91.437208   6.689504  19.391893   8.057633  17.248403   \n",
       "7  -724.681549   78.935860   8.528006  21.338789   9.212904  15.382850   \n",
       "8  -772.303192  100.141233  22.751473  28.350563  20.882337  24.289950   \n",
       "9  -596.937839   64.640544   6.658105   8.087178  -0.222232  11.440669   \n",
       "10 -758.873944   71.857767  19.127047  27.317023   8.173654  17.783045   \n",
       "11 -708.831160   75.432617   2.321167  11.533048   3.199667   8.529853   \n",
       "\n",
       "            6          7          8         9  ...        44         45  \\\n",
       "0   -2.983828   3.098029  -3.310813 -1.564385  ...  5.425878   5.689251   \n",
       "1   -9.528728   2.647623  -9.230346 -3.492293  ...  7.914243   5.654738   \n",
       "2   -3.507790  -5.246797  -8.943635 -2.100304  ...  5.704100   6.260803   \n",
       "3   -9.095821   1.328662 -10.593964 -6.960267  ...  6.607022   5.706694   \n",
       "4   -2.419525   4.976626  -0.916208 -1.138914  ...  4.392219   5.691560   \n",
       "5  -11.638861  -3.927076  -6.337936 -7.772809  ...  8.688997   6.170362   \n",
       "6   -7.020537   2.327569  -8.877209 -1.717042  ...  6.270341   8.089153   \n",
       "7   -6.691698  14.009060  -6.308382 -2.718124  ...  6.895123   7.899635   \n",
       "8    5.614293   8.056147   4.342381  4.477574  ...  6.952332   6.956904   \n",
       "9   -8.109157   0.893834  -8.189038 -3.269589  ...  8.566395   7.195438   \n",
       "10   1.273393   9.496479   3.150366  2.682944  ...  4.954148   6.268760   \n",
       "11  -8.020412   3.238735  -4.889365 -7.317614  ...  7.976270  10.380150   \n",
       "\n",
       "          46        47         48         49         50        51        52  \\\n",
       "0   7.162549  4.863709   5.585770   3.488844   5.367161  6.340625  0.050476   \n",
       "1   7.926573  7.294551   8.209560   7.293256   7.341540  6.102733  0.055098   \n",
       "2   5.771089  7.325422   4.801887   6.249477   5.842002  5.776897  0.057811   \n",
       "3   4.840397  6.876870  10.203698  11.689911   8.299857  7.492363  0.049154   \n",
       "4   7.304565  4.541160   5.775279   4.684903   4.733820  3.938220  0.061711   \n",
       "5   8.317585  6.077283   7.317003   8.120423   5.786133  4.823799  0.063484   \n",
       "6   5.502664  5.059152   5.574554   4.185490   5.535855  6.260219  0.073121   \n",
       "7   6.076923  7.249549   7.542714   5.686461   6.341204  6.306932  0.058015   \n",
       "8   4.917133  6.264295   6.726540   6.639472   4.482355  5.056610  0.033976   \n",
       "9   8.436254  9.116186   6.072399   7.030783  10.201778  5.616832  0.097845   \n",
       "10  7.080512  7.530523   6.186610   4.983872   7.008102  6.501643  0.052809   \n",
       "11  6.813642  6.556205   5.288268   6.545447   6.796746  5.156871  0.065126   \n",
       "\n",
       "    Emotion  \n",
       "0   Neutral  \n",
       "1   Neutral  \n",
       "2   Neutral  \n",
       "3   Neutral  \n",
       "4   Neutral  \n",
       "5   Neutral  \n",
       "6   Neutral  \n",
       "7   Neutral  \n",
       "8   Neutral  \n",
       "9   Neutral  \n",
       "10  Neutral  \n",
       "11  Neutral  \n",
       "\n",
       "[12 rows x 54 columns]"
      ]
     },
     "execution_count": 5,
     "metadata": {},
     "output_type": "execute_result"
    }
   ],
   "source": [
    "df = pd.DataFrame(data=result_array)\n",
    "# Label only the last (target) column\n",
    "df = df.rename({53: \"Emotion\"}, axis='columns')\n",
    "# Delete unnecessary emotion data (calm)\n",
    "df.drop(df[df['Emotion'] == 2.0].index, inplace = True)\n",
    "df['Emotion'].replace({1.0: \"Neutral\", 3.0: \"Happy\", 4.0: \"Sad\", 5.0: \"Angry\", 6.0: \"Fearful\", 7.0: \"Disgust\", 8.0: \"Surprised\"}, inplace=True)\n",
    "# Reset row (sample) indexing\n",
    "df = df.reset_index(drop=True)\n",
    "df.head(12)"
   ]
  },
  {
   "cell_type": "code",
   "execution_count": 6,
   "metadata": {},
   "outputs": [
    {
     "data": {
      "text/plain": [
       "Angry        192\n",
       "Happy        192\n",
       "Disgust      192\n",
       "Surprised    192\n",
       "Fearful      192\n",
       "Sad          192\n",
       "Neutral       96\n",
       "Name: Emotion, dtype: int64"
      ]
     },
     "execution_count": 6,
     "metadata": {},
     "output_type": "execute_result"
    }
   ],
   "source": [
    "df['Emotion'].value_counts()"
   ]
  },
  {
   "cell_type": "code",
   "execution_count": 7,
   "metadata": {},
   "outputs": [
    {
     "data": {
      "text/plain": [
       "Angry        192\n",
       "Happy        192\n",
       "Neutral      192\n",
       "Fearful      192\n",
       "Disgust      192\n",
       "Surprised    192\n",
       "Sad          192\n",
       "Name: Emotion, dtype: int64"
      ]
     },
     "execution_count": 7,
     "metadata": {},
     "output_type": "execute_result"
    }
   ],
   "source": [
    "# Balance the dataset for equal number of samples for each class.\n",
    "# Separate majority and minority classes\n",
    "df_minority = df[df.Emotion==\"Neutral\"]\n",
    "df_majority3 = df[df.Emotion==\"Happy\"]\n",
    "df_majority4 = df[df.Emotion==\"Sad\"]\n",
    "df_majority5 = df[df.Emotion==\"Angry\"]\n",
    "df_majority6 = df[df.Emotion==\"Fearful\"]\n",
    "df_majority7 = df[df.Emotion==\"Disgust\"]\n",
    "df_majority8 = df[df.Emotion==\"Surprised\"]\n",
    " \n",
    "# Upsample minority class\n",
    "df_minority_upsampled = resample(df_minority, \n",
    "                                 replace=True,     # sample with replacement\n",
    "                                 n_samples=192,    # to match majority class\n",
    "                                 random_state=123) # reproducible results\n",
    " \n",
    "# Combine majority class with upsampled minority class\n",
    "df_upsampled = pd.concat([df_minority_upsampled, df_majority3, df_majority4, df_majority5, df_majority6, df_majority7, df_majority8])\n",
    " \n",
    "# Display new class counts\n",
    "df_upsampled.Emotion.value_counts()\n",
    "\n",
    "# Reset row (sample) indexing\n",
    "df_upsampled = df_upsampled.reset_index(drop=True)\n",
    "\n",
    "df_upsampled['Emotion'].value_counts()"
   ]
  },
  {
   "cell_type": "code",
   "execution_count": 8,
   "metadata": {},
   "outputs": [
    {
     "name": "stdout",
     "output_type": "stream",
     "text": [
      "['Neutral' 'Neutral' 'Neutral' ... 'Surprised' 'Surprised' 'Surprised']\n"
     ]
    }
   ],
   "source": [
    "# Extract target feature 'Emotion' in a vector y. Indexing from 0\n",
    "y = df_upsampled.iloc[0:1344, 53].values\n",
    "# Extract features 'buying' and 'safety' in a vector X. Indexing from 0\n",
    "X = df_upsampled.iloc[0:1344, list(range(53))].values\n",
    "print(y)"
   ]
  },
  {
   "cell_type": "code",
   "execution_count": 9,
   "metadata": {},
   "outputs": [],
   "source": [
    "# Split data for training and testing\n",
    "X_train, X_test, y_train, y_test = train_test_split(X, y, test_size=0.25, random_state=1, stratify=y)\n",
    "\n",
    "# Create an object 'sc'\n",
    "sc = StandardScaler()\n",
    "\n",
    "# Scale training data\n",
    "sc.fit(X_train)\n",
    "X_train_std = sc.transform(X_train)"
   ]
  },
  {
   "cell_type": "code",
   "execution_count": 10,
   "metadata": {},
   "outputs": [
    {
     "data": {
      "text/plain": [
       "SVC(C=6.0, break_ties=False, cache_size=200, class_weight=None, coef0=0.0,\n",
       "    decision_function_shape='ovr', degree=3, gamma=0.028, kernel='rbf',\n",
       "    max_iter=-1, probability=False, random_state=1, shrinking=True, tol=0.001,\n",
       "    verbose=False)"
      ]
     },
     "execution_count": 10,
     "metadata": {},
     "output_type": "execute_result"
    }
   ],
   "source": [
    "# Create SVM model with hyperparameters\n",
    "#svm = SVC(kernel='sigmoid', C=10.0, random_state=1)\n",
    "\n",
    "# Best settings from GridSearchCV\n",
    "svm = SVC(kernel='rbf', C=6.0, gamma=0.028, random_state=1)\n",
    "\n",
    "# This is training the model\n",
    "svm.fit(X_train_std, y_train)"
   ]
  },
  {
   "cell_type": "code",
   "execution_count": 11,
   "metadata": {},
   "outputs": [],
   "source": [
    "# Scale test data\n",
    "sc.fit(X_test)\n",
    "X_test_std = sc.transform(X_test)\n",
    "\n",
    "# Test the model data\n",
    "y_pred = svm.predict(X_test_std)"
   ]
  },
  {
   "cell_type": "code",
   "execution_count": 12,
   "metadata": {},
   "outputs": [
    {
     "name": "stdout",
     "output_type": "stream",
     "text": [
      "Misclassified samples: 56\n",
      "Training Accuracy: 1.00\n",
      "Test Accuracy: 0.83\n"
     ]
    }
   ],
   "source": [
    "# Print out the performance metrics\n",
    "print('Misclassified samples: %d' % (y_test != y_pred).sum())\n",
    "print('Training Accuracy: %.2f' % svm.score(X_train_std, y_train))\n",
    "#print('Test Accuracy: %.2f' % accuracy_score(y_test, y_pred))\n",
    "print('Test Accuracy: %.2f' % svm.score(X_test_std, y_test))\n",
    "\n",
    "# Print out the performance metrics in a text file.\n",
    "#text_file = open(\"Emotion Classifier Performance Metrics.txt\", \"w\")\n",
    "#text_file.write('Misclassified samples: %d' % (y_test != y_pred).sum())\n",
    "#text_file.write('Training Accuracy: %.2f' % svm.score(X_train_std, y_train))\n",
    "#text_file.write('Test Accuracy: %.2f' % svm.score(X_test_std, y_test))\n",
    "#text_file.close()"
   ]
  },
  {
   "cell_type": "code",
   "execution_count": 87,
   "metadata": {},
   "outputs": [],
   "source": [
    "# Split data for training and testing\n",
    "X_train, X_test, y_train, y_test = train_test_split(X, y, test_size=0.25, random_state=1, stratify=y)\n",
    "\n",
    "# This is the setup, nothing gets executed yet…\n",
    "#pipe_svc = make_pipeline(StandardScaler(), PCA(n_components=2), SVC(random_state=1))\n",
    "\n",
    "# Create an object 'sc'\n",
    "sc = StandardScaler()\n",
    "\n",
    "# Scale training data\n",
    "sc.fit(X_train)\n",
    "X_train_std = sc.transform(X_train)\n",
    "\n",
    "# Scale test data\n",
    "sc.fit(X_test)\n",
    "X_test_std = sc.transform(X_test)\n",
    "\n",
    "pipe_svc = make_pipeline(StandardScaler(), SVC(kernel='rbf', C=5.5, gamma=0.03, random_state=1))"
   ]
  },
  {
   "cell_type": "code",
   "execution_count": 84,
   "metadata": {},
   "outputs": [
    {
     "data": {
      "image/png": "[encoded data removed]",
      "text/plain": [
       "<Figure size 432x288 with 1 Axes>"
      ]
     },
     "metadata": {
      "needs_background": "light"
     },
     "output_type": "display_data"
    }
   ],
   "source": [
    "train_sizes, train_scores, test_scores = learning_curve(estimator=pipe_svc, X=X_train_std, y=y_train, train_sizes=np.linspace(0.1, 1.0, 10), cv=10, n_jobs=1)\n",
    "train_mean = np.mean(train_scores, axis=1)\n",
    "train_std = np.std(train_scores, axis=1)\n",
    "test_mean = np.mean(test_scores, axis=1)\n",
    "test_std = np.std(test_scores, axis=1)\n",
    "\n",
    "fig = plt.figure()\n",
    "plt.plot(train_sizes, train_mean, color='blue', marker='o', markersize=5, label='training accuracy')\n",
    "plt.fill_between(train_sizes, train_mean + train_std, train_mean - train_std, alpha=0.15, color='blue')\n",
    "plt.plot(train_sizes, test_mean, color='green', linestyle='--', marker='s', markersize=5, label='validation accuracy')\n",
    "plt.fill_between(train_sizes, test_mean + test_std, test_mean - test_std, alpha=0.15, color='green')\n",
    "plt.grid()\n",
    "plt.xlabel('Number of training samples')\n",
    "plt.ylabel('Accuracy')\n",
    "plt.legend(loc='lower right')\n",
    "plt.ylim([0.2, 1.0])\n",
    "plt.show()\n",
    "\n",
    "# Save plot as PNG file\n",
    "fig.savefig('Learning curve no noise.png')"
   ]
  },
  {
   "cell_type": "code",
   "execution_count": 88,
   "metadata": {},
   "outputs": [
    {
     "name": "stdout",
     "output_type": "stream",
     "text": [
      "[[38  3  0  5  0  0  2]\n",
      " [ 1 43  0  2  2  0  0]\n",
      " [ 2  1 38  1  2  4  0]\n",
      " [ 4  1  2 37  0  3  1]\n",
      " [ 0  0  0  0 47  0  1]\n",
      " [ 0  1  6  0  1 38  2]\n",
      " [ 1  0  5  1  0  2 39]]\n"
     ]
    },
    {
     "data": {
      "text/html": [
       "<div>\n",
       "<style scoped>\n",
       "    .dataframe tbody tr th:only-of-type {\n",
       "        vertical-align: middle;\n",
       "    }\n",
       "\n",
       "    .dataframe tbody tr th {\n",
       "        vertical-align: top;\n",
       "    }\n",
       "\n",
       "    .dataframe thead th {\n",
       "        text-align: right;\n",
       "    }\n",
       "</style>\n",
       "<table border=\"1\" class=\"dataframe\">\n",
       "  <thead>\n",
       "    <tr style=\"text-align: right;\">\n",
       "      <th></th>\n",
       "      <th>Angry</th>\n",
       "      <th>Disgust</th>\n",
       "      <th>Fearful</th>\n",
       "      <th>Happy</th>\n",
       "      <th>Neutral</th>\n",
       "      <th>Sad</th>\n",
       "      <th>Surprised</th>\n",
       "    </tr>\n",
       "  </thead>\n",
       "  <tbody>\n",
       "    <tr>\n",
       "      <th>Angry</th>\n",
       "      <td>38</td>\n",
       "      <td>3</td>\n",
       "      <td>0</td>\n",
       "      <td>5</td>\n",
       "      <td>0</td>\n",
       "      <td>0</td>\n",
       "      <td>2</td>\n",
       "    </tr>\n",
       "    <tr>\n",
       "      <th>Disgust</th>\n",
       "      <td>1</td>\n",
       "      <td>43</td>\n",
       "      <td>0</td>\n",
       "      <td>2</td>\n",
       "      <td>2</td>\n",
       "      <td>0</td>\n",
       "      <td>0</td>\n",
       "    </tr>\n",
       "    <tr>\n",
       "      <th>Fearful</th>\n",
       "      <td>2</td>\n",
       "      <td>1</td>\n",
       "      <td>38</td>\n",
       "      <td>1</td>\n",
       "      <td>2</td>\n",
       "      <td>4</td>\n",
       "      <td>0</td>\n",
       "    </tr>\n",
       "    <tr>\n",
       "      <th>Happy</th>\n",
       "      <td>4</td>\n",
       "      <td>1</td>\n",
       "      <td>2</td>\n",
       "      <td>37</td>\n",
       "      <td>0</td>\n",
       "      <td>3</td>\n",
       "      <td>1</td>\n",
       "    </tr>\n",
       "    <tr>\n",
       "      <th>Neutral</th>\n",
       "      <td>0</td>\n",
       "      <td>0</td>\n",
       "      <td>0</td>\n",
       "      <td>0</td>\n",
       "      <td>47</td>\n",
       "      <td>0</td>\n",
       "      <td>1</td>\n",
       "    </tr>\n",
       "    <tr>\n",
       "      <th>Sad</th>\n",
       "      <td>0</td>\n",
       "      <td>1</td>\n",
       "      <td>6</td>\n",
       "      <td>0</td>\n",
       "      <td>1</td>\n",
       "      <td>38</td>\n",
       "      <td>2</td>\n",
       "    </tr>\n",
       "    <tr>\n",
       "      <th>Surprised</th>\n",
       "      <td>1</td>\n",
       "      <td>0</td>\n",
       "      <td>5</td>\n",
       "      <td>1</td>\n",
       "      <td>0</td>\n",
       "      <td>2</td>\n",
       "      <td>39</td>\n",
       "    </tr>\n",
       "  </tbody>\n",
       "</table>\n",
       "</div>"
      ],
      "text/plain": [
       "           Angry  Disgust  Fearful  Happy  Neutral  Sad  Surprised\n",
       "Angry         38        3        0      5        0    0          2\n",
       "Disgust        1       43        0      2        2    0          0\n",
       "Fearful        2        1       38      1        2    4          0\n",
       "Happy          4        1        2     37        0    3          1\n",
       "Neutral        0        0        0      0       47    0          1\n",
       "Sad            0        1        6      0        1   38          2\n",
       "Surprised      1        0        5      1        0    2         39"
      ]
     },
     "execution_count": 88,
     "metadata": {},
     "output_type": "execute_result"
    }
   ],
   "source": [
    "pipe_svc.fit(X_train_std, y_train)\n",
    "y_pred = pipe_svc.predict(X_test_std)\n",
    "#class_names = df_upsampled['Emotion'].unique()\n",
    "class_names = np.unique(y_test)\n",
    "confmat = confusion_matrix(y_true=y_test, y_pred=y_pred, labels=class_names)\n",
    "print(confmat)\n",
    "confmat.shape\n",
    "pd.DataFrame(confmat, index=class_names, columns=class_names)"
   ]
  },
  {
   "cell_type": "code",
   "execution_count": 22,
   "metadata": {},
   "outputs": [
    {
     "data": {
      "image/png": "[encoded data removed]",
      "text/plain": [
       "<Figure size 180x180 with 1 Axes>"
      ]
     },
     "metadata": {
      "needs_background": "light"
     },
     "output_type": "display_data"
    }
   ],
   "source": [
    "fig, ax = plt.subplots(figsize=(2.5, 2.5))\n",
    "ax.matshow(confmat, cmap=plt.cm.Blues, alpha=0.3)\n",
    "for i in range(confmat.shape[0]):\n",
    "    for j in range(confmat.shape[1]):\n",
    "        ax.text(x=j, y=i, s=confmat[i, j], va='center', ha='center')\n",
    "plt.xlabel('predicted label')\n",
    "plt.ylabel('true label')\n",
    "plt.show()\n",
    "fig.savefig('Confusion matrix no noise.png')"
   ]
  },
  {
   "cell_type": "code",
   "execution_count": 89,
   "metadata": {},
   "outputs": [
    {
     "name": "stdout",
     "output_type": "stream",
     "text": [
      "Confusion matrix, without normalization\n",
      "[[38  3  0  5  0  0  2]\n",
      " [ 1 43  0  2  2  0  0]\n",
      " [ 2  1 38  1  2  4  0]\n",
      " [ 4  1  2 37  0  3  1]\n",
      " [ 0  0  0  0 47  0  1]\n",
      " [ 0  1  6  0  1 38  2]\n",
      " [ 1  0  5  1  0  2 39]]\n"
     ]
    },
    {
     "data": {
      "image/png": "[encoded data removed]",
      "text/plain": [
       "<Figure size 432x288 with 2 Axes>"
      ]
     },
     "metadata": {
      "needs_background": "light"
     },
     "output_type": "display_data"
    }
   ],
   "source": [
    "def plot_confusion_matrix(cm, classes,\n",
    "                          normalize=False,\n",
    "                          title='Confusion matrix',\n",
    "                          cmap=plt.cm.Blues):\n",
    "    \"\"\"\n",
    "    This function prints and plots the confusion matrix.\n",
    "    Normalization can be applied by setting `normalize=True`.\n",
    "    \"\"\"\n",
    "    if normalize:\n",
    "        cm = cm.astype('float') / cm.sum(axis=1)[:, np.newaxis]\n",
    "        print(\"Normalized confusion matrix\")\n",
    "    else:\n",
    "        print('Confusion matrix, without normalization')\n",
    "\n",
    "    print(cm)\n",
    "\n",
    "    plt.imshow(cm, interpolation='nearest', cmap=cmap)\n",
    "    plt.title(title)\n",
    "    plt.colorbar()\n",
    "    tick_marks = np.arange(len(classes))\n",
    "    plt.xticks(tick_marks, classes, rotation=45)\n",
    "    plt.yticks(tick_marks, classes)\n",
    "\n",
    "    fmt = '.2f' if normalize else 'd'\n",
    "    thresh = cm.max() / 2.\n",
    "    for i, j in itertools.product(range(cm.shape[0]), range(cm.shape[1])):\n",
    "        plt.text(j, i, format(cm[i, j], fmt),\n",
    "                 horizontalalignment=\"center\",\n",
    "                 color=\"white\" if cm[i, j] > thresh else \"black\")\n",
    "\n",
    "    plt.ylabel('True label')\n",
    "    plt.xlabel('Predicted label')\n",
    "    plt.tight_layout()\n",
    "\n",
    "plt.figure()\n",
    "plot_confusion_matrix(confmat, class_names, title='Confusion matrix (no noise)')\n",
    "plt.show()"
   ]
  },
  {
   "cell_type": "code",
   "execution_count": 38,
   "metadata": {},
   "outputs": [
    {
     "ename": "ImportError",
     "evalue": "cannot import name '_chunk_generator' from 'sklearn.utils' (C:\\Users\\Maleeha\\Anaconda3\\lib\\site-packages\\sklearn\\utils\\__init__.py)",
     "output_type": "error",
     "traceback": [
      "\u001b[1;31m---------------------------------------------------------------------------\u001b[0m",
      "\u001b[1;31mImportError\u001b[0m                               Traceback (most recent call last)",
      "\u001b[1;32m<ipython-input-38-97a6d86cccaf>\u001b[0m in \u001b[0;36m<module>\u001b[1;34m\u001b[0m\n\u001b[0;32m      3\u001b[0m \u001b[1;32mimport\u001b[0m \u001b[0mmatplotlib\u001b[0m\u001b[1;33m.\u001b[0m\u001b[0mpyplot\u001b[0m \u001b[1;32mas\u001b[0m \u001b[0mplt\u001b[0m\u001b[1;33m\u001b[0m\u001b[1;33m\u001b[0m\u001b[0m\n\u001b[0;32m      4\u001b[0m \u001b[1;33m\u001b[0m\u001b[0m\n\u001b[1;32m----> 5\u001b[1;33m \u001b[1;32mfrom\u001b[0m \u001b[0msklearn\u001b[0m \u001b[1;32mimport\u001b[0m \u001b[0msvm\u001b[0m\u001b[1;33m,\u001b[0m \u001b[0mdatasets\u001b[0m\u001b[1;33m\u001b[0m\u001b[1;33m\u001b[0m\u001b[0m\n\u001b[0m\u001b[0;32m      6\u001b[0m \u001b[1;32mfrom\u001b[0m \u001b[0msklearn\u001b[0m\u001b[1;33m.\u001b[0m\u001b[0mmodel_selection\u001b[0m \u001b[1;32mimport\u001b[0m \u001b[0mtrain_test_split\u001b[0m\u001b[1;33m\u001b[0m\u001b[1;33m\u001b[0m\u001b[0m\n\u001b[0;32m      7\u001b[0m \u001b[1;32mfrom\u001b[0m \u001b[0msklearn\u001b[0m\u001b[1;33m.\u001b[0m\u001b[0mmetrics\u001b[0m \u001b[1;32mimport\u001b[0m \u001b[0mconfusion_matrix\u001b[0m\u001b[1;33m\u001b[0m\u001b[1;33m\u001b[0m\u001b[0m\n",
      "\u001b[1;32m~\\Anaconda3\\lib\\site-packages\\sklearn\\datasets\\__init__.py\u001b[0m in \u001b[0;36m<module>\u001b[1;34m\u001b[0m\n\u001b[0;32m     22\u001b[0m \u001b[1;32mfrom\u001b[0m \u001b[1;33m.\u001b[0m\u001b[0m_twenty_newsgroups\u001b[0m \u001b[1;32mimport\u001b[0m \u001b[0mfetch_20newsgroups\u001b[0m\u001b[1;33m\u001b[0m\u001b[1;33m\u001b[0m\u001b[0m\n\u001b[0;32m     23\u001b[0m \u001b[1;32mfrom\u001b[0m \u001b[1;33m.\u001b[0m\u001b[0m_twenty_newsgroups\u001b[0m \u001b[1;32mimport\u001b[0m \u001b[0mfetch_20newsgroups_vectorized\u001b[0m\u001b[1;33m\u001b[0m\u001b[1;33m\u001b[0m\u001b[0m\n\u001b[1;32m---> 24\u001b[1;33m \u001b[1;32mfrom\u001b[0m \u001b[1;33m.\u001b[0m\u001b[0m_openml\u001b[0m \u001b[1;32mimport\u001b[0m \u001b[0mfetch_openml\u001b[0m\u001b[1;33m\u001b[0m\u001b[1;33m\u001b[0m\u001b[0m\n\u001b[0m\u001b[0;32m     25\u001b[0m \u001b[1;32mfrom\u001b[0m \u001b[1;33m.\u001b[0m\u001b[0m_samples_generator\u001b[0m \u001b[1;32mimport\u001b[0m \u001b[0mmake_classification\u001b[0m\u001b[1;33m\u001b[0m\u001b[1;33m\u001b[0m\u001b[0m\n\u001b[0;32m     26\u001b[0m \u001b[1;32mfrom\u001b[0m \u001b[1;33m.\u001b[0m\u001b[0m_samples_generator\u001b[0m \u001b[1;32mimport\u001b[0m \u001b[0mmake_multilabel_classification\u001b[0m\u001b[1;33m\u001b[0m\u001b[1;33m\u001b[0m\u001b[0m\n",
      "\u001b[1;32m~\\Anaconda3\\lib\\site-packages\\sklearn\\datasets\\_openml.py\u001b[0m in \u001b[0;36m<module>\u001b[1;34m\u001b[0m\n\u001b[0;32m     21\u001b[0m \u001b[1;32mfrom\u001b[0m \u001b[1;33m.\u001b[0m\u001b[1;33m.\u001b[0m\u001b[0mutils\u001b[0m \u001b[1;32mimport\u001b[0m \u001b[0mBunch\u001b[0m\u001b[1;33m\u001b[0m\u001b[1;33m\u001b[0m\u001b[0m\n\u001b[0;32m     22\u001b[0m \u001b[1;32mfrom\u001b[0m \u001b[1;33m.\u001b[0m\u001b[1;33m.\u001b[0m\u001b[0mutils\u001b[0m \u001b[1;32mimport\u001b[0m \u001b[0mget_chunk_n_rows\u001b[0m\u001b[1;33m\u001b[0m\u001b[1;33m\u001b[0m\u001b[0m\n\u001b[1;32m---> 23\u001b[1;33m \u001b[1;32mfrom\u001b[0m \u001b[1;33m.\u001b[0m\u001b[1;33m.\u001b[0m\u001b[0mutils\u001b[0m \u001b[1;32mimport\u001b[0m \u001b[0m_chunk_generator\u001b[0m\u001b[1;33m\u001b[0m\u001b[1;33m\u001b[0m\u001b[0m\n\u001b[0m\u001b[0;32m     24\u001b[0m \u001b[1;32mfrom\u001b[0m \u001b[1;33m.\u001b[0m\u001b[1;33m.\u001b[0m\u001b[0mutils\u001b[0m \u001b[1;32mimport\u001b[0m \u001b[0mcheck_pandas_support\u001b[0m  \u001b[1;31m# noqa\u001b[0m\u001b[1;33m\u001b[0m\u001b[1;33m\u001b[0m\u001b[0m\n\u001b[0;32m     25\u001b[0m \u001b[1;33m\u001b[0m\u001b[0m\n",
      "\u001b[1;31mImportError\u001b[0m: cannot import name '_chunk_generator' from 'sklearn.utils' (C:\\Users\\Maleeha\\Anaconda3\\lib\\site-packages\\sklearn\\utils\\__init__.py)"
     ]
    }
   ],
   "source": [
    "import itertools\n",
    "import numpy as np\n",
    "import matplotlib.pyplot as plt\n",
    "\n",
    "from sklearn import svm, datasets\n",
    "from sklearn.model_selection import train_test_split\n",
    "from sklearn.metrics import confusion_matrix\n",
    "\n",
    "# import some data to play with\n",
    "iris = datasets.load_iris()\n",
    "X = iris.data\n",
    "y = iris.target\n",
    "class_names = iris.target_names\n",
    "\n",
    "# Split the data into a training set and a test set\n",
    "X_train, X_test, y_train, y_test = train_test_split(X, y, random_state=45, test_size=0.05)\n",
    "    \n",
    "\n",
    "# Run classifier, using a model that is too regularized (C too low) to see\n",
    "# the impact on the results\n",
    "classifier = svm.SVC(kernel='linear')\n",
    "y_pred = classifier.fit(X_train, y_train).predict(X_test)\n",
    "\n",
    "\n",
    "def plot_confusion_matrix(cm, classes,\n",
    "                          normalize=False,\n",
    "                          title='Confusion matrix',\n",
    "                          cmap=plt.cm.Blues):\n",
    "    \"\"\"\n",
    "    This function prints and plots the confusion matrix.\n",
    "    Normalization can be applied by setting `normalize=True`.\n",
    "    \"\"\"\n",
    "    if normalize:\n",
    "        cm = cm.astype('float') / cm.sum(axis=1)[:, np.newaxis]\n",
    "        print(\"Normalized confusion matrix\")\n",
    "    else:\n",
    "        print('Confusion matrix, without normalization')\n",
    "\n",
    "    print(cm)\n",
    "\n",
    "    plt.imshow(cm, interpolation='nearest', cmap=cmap)\n",
    "    plt.title(title)\n",
    "    plt.colorbar()\n",
    "    tick_marks = np.arange(len(classes))\n",
    "    plt.xticks(tick_marks, classes, rotation=45)\n",
    "    plt.yticks(tick_marks, classes)\n",
    "\n",
    "    fmt = '.2f' if normalize else 'd'\n",
    "    thresh = cm.max() / 2.\n",
    "    for i, j in itertools.product(range(cm.shape[0]), range(cm.shape[1])):\n",
    "        plt.text(j, i, format(cm[i, j], fmt),\n",
    "                 horizontalalignment=\"center\",\n",
    "                 color=\"white\" if cm[i, j] > thresh else \"black\")\n",
    "\n",
    "    plt.ylabel('True label')\n",
    "    plt.xlabel('Predicted label')\n",
    "    plt.tight_layout()\n",
    "\n",
    "\n",
    "# Compute confusion matrix\n",
    "cnf_matrix = confusion_matrix(y_test, y_pred)\n",
    "np.set_printoptions(precision=2)\n",
    "\n",
    "# Plot non-normalized confusion matrix\n",
    "plt.figure()\n",
    "plot_confusion_matrix(cnf_matrix, classes=class_names,\n",
    "                      title='Confusion matrix, without normalization')\n",
    "plt.show()"
   ]
  },
  {
   "cell_type": "code",
   "execution_count": 48,
   "metadata": {},
   "outputs": [
    {
     "ename": "TypeError",
     "evalue": "get_value() missing 1 required positional argument: 'label'",
     "output_type": "error",
     "traceback": [
      "\u001b[1;31m---------------------------------------------------------------------------\u001b[0m",
      "\u001b[1;31mTypeError\u001b[0m                                 Traceback (most recent call last)",
      "\u001b[1;32m<ipython-input-48-36676629d5e1>\u001b[0m in \u001b[0;36m<module>\u001b[1;34m\u001b[0m\n\u001b[1;32m----> 1\u001b[1;33m \u001b[0mdf_upsampled\u001b[0m\u001b[1;33m[\u001b[0m\u001b[1;34m'Emotion'\u001b[0m\u001b[1;33m]\u001b[0m\u001b[1;33m.\u001b[0m\u001b[0mget_value\u001b[0m\u001b[1;33m(\u001b[0m\u001b[1;33m)\u001b[0m\u001b[1;33m\u001b[0m\u001b[1;33m\u001b[0m\u001b[0m\n\u001b[0m",
      "\u001b[1;31mTypeError\u001b[0m: get_value() missing 1 required positional argument: 'label'"
     ]
    }
   ],
   "source": [
    "df_upsampled['Emotion'].get_value()"
   ]
  },
  {
   "cell_type": "code",
   "execution_count": 62,
   "metadata": {},
   "outputs": [
    {
     "data": {
      "text/plain": [
       "{'Angry', 'Disgust', 'Fearful', 'Happy', 'Neutral', 'Sad', 'Surprised'}"
      ]
     },
     "execution_count": 62,
     "metadata": {},
     "output_type": "execute_result"
    }
   ],
   "source": [
    "set(y_test)"
   ]
  },
  {
   "cell_type": "code",
   "execution_count": 6,
   "metadata": {},
   "outputs": [
    {
     "data": {
      "text/plain": [
       "4"
      ]
     },
     "execution_count": 6,
     "metadata": {},
     "output_type": "execute_result"
    }
   ],
   "source": [
    "b = '1001'\n",
    "len(b)"
   ]
  },
  {
   "cell_type": "code",
   "execution_count": 4,
   "metadata": {},
   "outputs": [
    {
     "name": "stdout",
     "output_type": "stream",
     "text": [
      "1\n",
      "0\n",
      "0\n",
      "1\n"
     ]
    }
   ],
   "source": [
    "for i in b:\n",
    "    print(i)"
   ]
  },
  {
   "cell_type": "code",
   "execution_count": 7,
   "metadata": {},
   "outputs": [
    {
     "data": {
      "text/plain": [
       "True"
      ]
     },
     "execution_count": 7,
     "metadata": {},
     "output_type": "execute_result"
    }
   ],
   "source": [
    "check = isinstance(5, int)\n",
    "check"
   ]
  },
  {
   "cell_type": "code",
   "execution_count": 11,
   "metadata": {},
   "outputs": [
    {
     "data": {
      "text/plain": [
       "['0', '00']"
      ]
     },
     "execution_count": 11,
     "metadata": {},
     "output_type": "execute_result"
    }
   ],
   "source": [
    "101001\n",
    "a = bin(41)[2:].strip('0').strip('1').split('1')\n",
    "a"
   ]
  },
  {
   "cell_type": "code",
   "execution_count": 13,
   "metadata": {},
   "outputs": [
    {
     "data": {
      "text/plain": [
       "3"
      ]
     },
     "execution_count": 13,
     "metadata": {},
     "output_type": "execute_result"
    }
   ],
   "source": [
    "b = [1,2,3]\n",
    "len(b)"
   ]
  },
  {
   "cell_type": "code",
   "execution_count": 14,
   "metadata": {},
   "outputs": [
    {
     "ename": "NameError",
     "evalue": "name 'ones' is not defined",
     "output_type": "error",
     "traceback": [
      "\u001b[1;31m---------------------------------------------------------------------------\u001b[0m",
      "\u001b[1;31mNameError\u001b[0m                                 Traceback (most recent call last)",
      "\u001b[1;32m<ipython-input-14-8485ed0e1236>\u001b[0m in \u001b[0;36m<module>\u001b[1;34m\u001b[0m\n\u001b[1;32m----> 1\u001b[1;33m \u001b[0mb\u001b[0m \u001b[1;33m=\u001b[0m \u001b[0mones\u001b[0m\u001b[1;33m(\u001b[0m\u001b[1;36m2\u001b[0m\u001b[1;33m)\u001b[0m\u001b[1;33m\u001b[0m\u001b[1;33m\u001b[0m\u001b[0m\n\u001b[0m\u001b[0;32m      2\u001b[0m \u001b[0mb\u001b[0m\u001b[1;33m\u001b[0m\u001b[1;33m\u001b[0m\u001b[0m\n",
      "\u001b[1;31mNameError\u001b[0m: name 'ones' is not defined"
     ]
    }
   ],
   "source": []
  },
  {
   "cell_type": "code",
   "execution_count": 3,
   "metadata": {},
   "outputs": [
    {
     "data": {
      "image/png": "[encoded data removed]",
      "text/plain": [
       "<Figure size 432x288 with 1 Axes>"
      ]
     },
     "metadata": {
      "needs_background": "light"
     },
     "output_type": "display_data"
    }
   ],
   "source": [
    "import matplotlib.pyplot as plt\n",
    "import numpy as np\n",
    "\n",
    "# Define an object 'fig'. The method 'figure()' generate a figure.\n",
    "fig = plt.figure()\n",
    "\n",
    "# Use Numpy's 'linspace()' method to produce 10 values in the range 0 to 10.\n",
    "x = np.linspace(0, 10, 10)\n",
    "# Define a straight-line equation for y.\n",
    "y = 2*x + 1\n",
    "\n",
    "# This creates the plot.\n",
    "plt.plot(x,y)\n",
    "# Label the axes.\n",
    "plt.xlabel('My X axis')\n",
    "plt.ylabel('My Y axis')\n",
    "\n",
    "# To show plot in Jupyter Notebook.\n",
    "plt.show()\n",
    "\n",
    "# Save plot as PNG file.\n",
    "fig.savefig('Straight Line Plot.png')"
   ]
  },
  {
   "cell_type": "code",
   "execution_count": 1,
   "metadata": {},
   "outputs": [
    {
     "name": "stdout",
     "output_type": "stream",
     "text": [
      "Please enter a positive integer -1\n",
      "Try again!\n",
      "Please enter a positive integer 0\n",
      "Try again!\n",
      "Please enter a positive integer 3\n",
      "3\n"
     ]
    }
   ],
   "source": [
    "# scanf in Python\n",
    "i = 4\n",
    "while i < 5:\n",
    "    a = input(\"Please enter a positive integer \")\n",
    "    a = int(a)\n",
    "    if a<=0:\n",
    "        print(\"Try again!\")\n",
    "    else:\n",
    "        print(a)\n",
    "        break"
   ]
  },
  {
   "cell_type": "code",
   "execution_count": 9,
   "metadata": {},
   "outputs": [
    {
     "name": "stdout",
     "output_type": "stream",
     "text": [
      "[1, 4, 9]\n"
     ]
    }
   ],
   "source": [
    "# Square numbers in a list\n",
    "r = [1,2,3]\n",
    "l = [0]*3\n",
    "for i in range(0,3):\n",
    "    l[i] = r[i]*r[i]\n",
    "print(l)"
   ]
  },
  {
   "cell_type": "code",
   "execution_count": null,
   "metadata": {},
   "outputs": [],
   "source": []
  }
 ],
 "metadata": {
  "kernelspec": {
   "display_name": "Python 3",
   "language": "python",
   "name": "python3"
  },
  "language_info": {
   "codemirror_mode": {
    "name": "ipython",
    "version": 3
   },
   "file_extension": ".py",
   "mimetype": "text/x-python",
   "name": "python",
   "nbconvert_exporter": "python",
   "pygments_lexer": "ipython3",
   "version": "3.7.6"
  }
 },
 "nbformat": 4,
 "nbformat_minor": 2
}
