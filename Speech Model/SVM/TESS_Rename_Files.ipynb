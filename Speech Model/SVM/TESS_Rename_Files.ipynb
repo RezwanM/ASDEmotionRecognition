{
 "cells": [
  {
   "cell_type": "code",
   "execution_count": 15,
   "metadata": {},
   "outputs": [],
   "source": [
    "# Pythono3 code to rename multiple  \n",
    "# files in a directory or folder \n",
    "\n",
    "# TESS files named similar to RAVDESS files (with a number corresponding to an emotion class)\n",
    "\n",
    "# importing os module \n",
    "import os \n",
    "\n",
    "# Save directory path in 'path'\n",
    "path = r'C:\\Books\\Texas State Books\\Fall 2019\\Thesis A\\Corpus\\Simulated\\TESS\\Original_Renamed\\YAF_sad'\n",
    "\n",
    "# Create a list of audio file names 'file_list'\n",
    "file_list = os.listdir(path)\n",
    "\n",
    "# Function to rename multiple files \n",
    "def main(): \n",
    "    i = 0\n",
    "      \n",
    "    for filename in file_list: \n",
    "        dst =\"YAF_4_\" + str(i) + \".wav\"\n",
    "        src =path + '\\\\' + file_list[i]\n",
    "        dst =path + '\\\\' + dst \n",
    "          \n",
    "        # rename() function will \n",
    "        # rename all the files \n",
    "        os.rename(src, dst) \n",
    "        i += 1\n",
    "  \n",
    "# Driver Code \n",
    "if __name__ == '__main__': \n",
    "      \n",
    "    # Calling main() function \n",
    "    main() "
   ]
  },
  {
   "cell_type": "code",
   "execution_count": 17,
   "metadata": {},
   "outputs": [],
   "source": [
    "# Pythono3 code to rename multiple  \n",
    "# files in a directory or folder \n",
    "\n",
    "# TESS files named EXACTLY as RAVDESS files (with the third number corresponding to an emotion class)\n",
    "\n",
    "# importing os module \n",
    "import os \n",
    "\n",
    "# Save directory path in 'path'\n",
    "path = r'C:\\Books\\Texas State Books\\Fall 2019\\Thesis A\\Corpus\\Simulated\\TESS\\Renamed_RAVDESS_Style\\YAF_sad'\n",
    "\n",
    "# Create a list of audio file names 'file_list'\n",
    "file_list = os.listdir(path)\n",
    "\n",
    "# Function to rename multiple files \n",
    "def main(): \n",
    "    i = 0\n",
    "      \n",
    "    for filename in file_list: \n",
    "        dst =\"05-01-04-01-01-01-\" + str(i) + \".wav\"\n",
    "        src =path + '\\\\' + file_list[i]\n",
    "        dst =path + '\\\\' + dst \n",
    "          \n",
    "        # rename() function will \n",
    "        # rename all the files \n",
    "        os.rename(src, dst) \n",
    "        i += 1\n",
    "  \n",
    "# Driver Code \n",
    "if __name__ == '__main__': \n",
    "      \n",
    "    # Calling main() function \n",
    "    main() "
   ]
  }
 ],
 "metadata": {
  "kernelspec": {
   "display_name": "Python 3",
   "language": "python",
   "name": "python3"
  },
  "language_info": {
   "codemirror_mode": {
    "name": "ipython",
    "version": 3
   },
   "file_extension": ".py",
   "mimetype": "text/x-python",
   "name": "python",
   "nbconvert_exporter": "python",
   "pygments_lexer": "ipython3",
   "version": "3.7.1"
  }
 },
 "nbformat": 4,
 "nbformat_minor": 2
}
